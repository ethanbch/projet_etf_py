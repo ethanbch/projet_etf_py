{
 "cells": [
  {
   "cell_type": "markdown",
   "id": "57fdfef3",
   "metadata": {},
   "source": [
    "# Projet Applied Data Science in Finance - M1 MBFA\n",
    "## Comparateur de Performance d'ETFs Thématiques\n",
    "\n",
    "Ce notebook documente le développement d'un projet Python pour l'analyse et la comparaison d'ETFs thématiques. Le projet utilise les bonnes pratiques de programmation, avec une architecture modulaire et une documentation approfondie.\n",
    "\n",
    "### Objectifs du Projet\n",
    "- Création d'un ETL pour le chargement et le traitement des données d'ETFs\n",
    "- Stockage efficace des données dans SQLite\n",
    "- Interface utilisateur interactive avec Streamlit\n",
    "- Visualisations avancées avec Plotly\n",
    "- Documentation complète du code\n",
    "\n",
    "### Technologies Utilisées\n",
    "- Python 3.12\n",
    "- yfinance pour les données financières\n",
    "- SQLite et SQLAlchemy pour le stockage\n",
    "- Pandas pour le traitement des données\n",
    "- Plotly pour les visualisations\n",
    "- Streamlit pour l'interface utilisateur"
   ]
  },
  {
   "cell_type": "markdown",
   "id": "845be13e",
   "metadata": {},
   "source": [
    "## 1. Importation des Bibliothèques\n",
    "Importons les bibliothèques nécessaires pour notre projet :"
   ]
  },
  {
   "cell_type": "code",
   "execution_count": null,
   "id": "c6634eec",
   "metadata": {},
   "outputs": [],
   "source": [
    "import numpy as np\n",
    "import pandas as pd\n",
    "import yfinance as yf\n",
    "import plotly.express as px\n",
    "import plotly.graph_objects as go\n",
    "from sqlalchemy import create_engine\n",
    "from datetime import datetime, timedelta\n",
    "\n",
    "# Vérification des versions des bibliothèques\n",
    "print(f\"pandas version: {pd.__version__}\")\n",
    "print(f\"numpy version: {np.__version__}\")\n",
    "print(f\"yfinance version: {yf.__version__}\")"
   ]
  },
  {
   "cell_type": "markdown",
   "id": "1101bbac",
   "metadata": {},
   "source": [
    "## 2. Chargement des Données depuis YFinance\n",
    "Nous utilisons la classe `ETFDataLoader` pour charger les données des ETFs depuis yfinance. Cette classe gère :\n",
    "- Le chargement des métadonnées depuis un CSV\n",
    "- La récupération des prix historiques\n",
    "- La mise en cache des données dans SQLite"
   ]
  },
  {
   "cell_type": "code",
   "execution_count": null,
   "id": "d6036df6",
   "metadata": {},
   "outputs": [],
   "source": [
    "# Exemple d'utilisation de la classe ETFDataLoader\n",
    "from src.etl import ETFDataLoader\n",
    "from src.repository import ETFRepository\n",
    "\n",
    "# Créer une instance du repository\n",
    "repository = ETFRepository('data/etf_analyzer.db')\n",
    "\n",
    "# Créer une instance du loader\n",
    "loader = ETFDataLoader(repository)\n",
    "\n",
    "# Liste d'exemple d'ETFs thématiques\n",
    "etfs = ['ARKK', 'BOTZ', 'ICLN', 'FINX', 'SKYY']\n",
    "\n",
    "# Charger les données\n",
    "data = loader.fetch_multiple_etfs_data(\n",
    "    tickers=etfs,\n",
    "    period='2y'\n",
    ")\n",
    "\n",
    "# Afficher les premières données pour un ETF\n",
    "first_etf = list(data.values())[0]\n",
    "df = pd.DataFrame([{\n",
    "    'date': price.date,\n",
    "    'adj_close': price.adj_close,\n",
    "    'volume': price.volume\n",
    "} for price in first_etf])\n",
    "\n",
    "print(f\"\\nAperçu des données pour {etfs[0]}:\")\n",
    "print(df.head())"
   ]
  },
  {
   "cell_type": "markdown",
   "id": "c51d8713",
   "metadata": {},
   "source": [
    "## 3. Nettoyage et Transformation des Données\n",
    "Les données brutes nécessitent un traitement avant analyse :\n",
    "- Gestion des valeurs manquantes\n",
    "- Conversion des types de données\n",
    "- Calcul des rendements et autres métriques"
   ]
  },
  {
   "cell_type": "code",
   "execution_count": null,
   "id": "8bed6d8b",
   "metadata": {},
   "outputs": [],
   "source": [
    "# Fonction pour transformer les données brutes en DataFrame\n",
    "def prepare_price_data(etf_data):\n",
    "    # Créer un DataFrame pour chaque ETF\n",
    "    dfs = {}\n",
    "    for ticker, prices in etf_data.items():\n",
    "        df = pd.DataFrame([\n",
    "            {\n",
    "                'date': p.date,\n",
    "                'adj_close': p.adj_close,\n",
    "                'volume': p.volume\n",
    "            } for p in prices\n",
    "        ])\n",
    "        df.set_index('date', inplace=True)\n",
    "        df.sort_index(inplace=True)\n",
    "        \n",
    "        # Calculer les rendements journaliers\n",
    "        df['returns'] = df['adj_close'].pct_change()\n",
    "        \n",
    "        # Nettoyer les valeurs manquantes\n",
    "        df.dropna(inplace=True)\n",
    "        \n",
    "        dfs[ticker] = df\n",
    "    \n",
    "    return dfs\n",
    "\n",
    "# Préparer les données\n",
    "clean_data = prepare_price_data(data)\n",
    "\n",
    "# Afficher un aperçu des données nettoyées\n",
    "for ticker, df in clean_data.items():\n",
    "    print(f\"\\nAperçu pour {ticker}:\")\n",
    "    print(df.head())\n",
    "    print(f\"Nombre d'observations: {len(df)}\")"
   ]
  },
  {
   "cell_type": "markdown",
   "id": "822fa32c",
   "metadata": {},
   "source": [
    "## 4. Stockage des Données dans SQLite\n",
    "Nous utilisons SQLAlchemy pour gérer notre base de données SQLite. Les données sont structurées en plusieurs tables :\n",
    "- ETFs : informations sur les ETFs\n",
    "- PriceData : données historiques de prix\n",
    "- PerformanceMetrics : métriques calculées"
   ]
  },
  {
   "cell_type": "code",
   "execution_count": null,
   "id": "d8a3b6a2",
   "metadata": {},
   "outputs": [],
   "source": [
    "# Exemple de requête pour vérifier les données stockées\n",
    "query = \"\"\"\n",
    "SELECT p.ticker, COUNT(*) as nb_points,\n",
    "       MIN(date) as debut, MAX(date) as fin\n",
    "FROM price_data p\n",
    "GROUP BY p.ticker\n",
    "\"\"\"\n",
    "\n",
    "# Exécuter la requête\n",
    "with repository.engine.connect() as conn:\n",
    "    result = pd.read_sql(query, conn)\n",
    "\n",
    "print(\"\\nRésumé des données stockées dans SQLite:\")\n",
    "print(result)"
   ]
  },
  {
   "cell_type": "markdown",
   "id": "c9674485",
   "metadata": {},
   "source": [
    "## 5. Jointure entre Deux Jeux de Données\n",
    "Nous allons joindre les données de prix avec les métadonnées des ETFs pour une analyse plus complète."
   ]
  },
  {
   "cell_type": "code",
   "execution_count": null,
   "id": "2d580af9",
   "metadata": {},
   "outputs": [],
   "source": [
    "# Requête avec jointure pour obtenir les prix et les métadonnées\n",
    "query_jointure = \"\"\"\n",
    "SELECT e.ticker, e.name, e.issuer, e.ter,\n",
    "       p.date, p.adj_close, p.volume\n",
    "FROM etfs e\n",
    "JOIN price_data p ON e.ticker = p.ticker\n",
    "WHERE p.date >= DATE('now', '-30 days')\n",
    "ORDER BY e.ticker, p.date\n",
    "\"\"\"\n",
    "\n",
    "# Exécuter la requête\n",
    "with repository.engine.connect() as conn:\n",
    "    donnees_jointes = pd.read_sql(query_jointure, conn)\n",
    "\n",
    "print(\"\\nAperçu des données jointes:\")\n",
    "print(donnees_jointes.head())\n",
    "print(f\"\\nNombre total d'observations: {len(donnees_jointes)}\")"
   ]
  },
  {
   "cell_type": "markdown",
   "id": "2a4987b2",
   "metadata": {},
   "source": [
    "## 6. Visualisation des Données\n",
    "Utilisons Plotly pour créer des visualisations interactives des données d'ETFs."
   ]
  },
  {
   "cell_type": "code",
   "execution_count": null,
   "id": "856c4a99",
   "metadata": {},
   "outputs": [],
   "source": [
    "# Créer un graphique des prix normalisés\n",
    "def plot_normalized_prices(clean_data):\n",
    "    # Normaliser les prix\n",
    "    normalized_data = {}\n",
    "    for ticker, df in clean_data.items():\n",
    "        normalized_data[ticker] = df['adj_close'] / df['adj_close'].iloc[0] * 100\n",
    "    \n",
    "    # Créer le graphique\n",
    "    fig = go.Figure()\n",
    "    for ticker, prices in normalized_data.items():\n",
    "        fig.add_trace(go.Scatter(\n",
    "            x=prices.index,\n",
    "            y=prices.values,\n",
    "            name=ticker,\n",
    "            mode='lines'\n",
    "        ))\n",
    "    \n",
    "    fig.update_layout(\n",
    "        title='Performance Relative des ETFs (Base 100)',\n",
    "        xaxis_title='Date',\n",
    "        yaxis_title='Prix Normalisé',\n",
    "        template='plotly_white'\n",
    "    )\n",
    "    \n",
    "    return fig\n",
    "\n",
    "# Afficher le graphique\n",
    "fig = plot_normalized_prices(clean_data)\n",
    "fig.show()"
   ]
  },
  {
   "cell_type": "markdown",
   "id": "6b4b6c3f",
   "metadata": {},
   "source": [
    "## 7. Interface Utilisateur avec Streamlit\n",
    "Notre application Streamlit permet aux utilisateurs d'interagir avec les données et les analyses. Voici un aperçu du code de l'interface utilisateur."
   ]
  },
  {
   "cell_type": "code",
   "execution_count": null,
   "id": "627a123b",
   "metadata": {},
   "outputs": [],
   "source": [
    "# Exemple de code pour l'interface Streamlit\n",
    "'''\n",
    "import streamlit as st\n",
    "\n",
    "def main():\n",
    "    st.title(\"Analyseur d'ETFs Thématiques\")\n",
    "    \n",
    "    # Sélection des ETFs\n",
    "    etfs_selection = st.multiselect(\n",
    "        \"Sélectionnez les ETFs à analyser:\",\n",
    "        options=etfs,\n",
    "        default=etfs[:2]\n",
    "    )\n",
    "    \n",
    "    # Période d'analyse\n",
    "    periode = st.selectbox(\n",
    "        \"Période d'analyse:\",\n",
    "        options=['1m', '3m', '6m', '1y', '2y', '5y'],\n",
    "        index=3\n",
    "    )\n",
    "    \n",
    "    if st.button(\"Analyser\"):\n",
    "        # Charger et afficher les données\n",
    "        data = loader.fetch_multiple_etfs_data(\n",
    "            tickers=etfs_selection,\n",
    "            period=periode\n",
    "        )\n",
    "        \n",
    "        # Afficher les visualisations\n",
    "        clean_data = prepare_price_data(data)\n",
    "        fig = plot_normalized_prices(clean_data)\n",
    "        st.plotly_chart(fig)\n",
    "\n",
    "if __name__ == \"__main__\":\n",
    "    main()\n",
    "'''"
   ]
  },
  {
   "cell_type": "markdown",
   "id": "bbf079cf",
   "metadata": {},
   "source": [
    "## Conclusion\n",
    "\n",
    "Ce notebook a présenté les principales fonctionnalités de notre projet d'analyse d'ETFs :\n",
    "\n",
    "1. Architecture modulaire avec séparation des responsabilités\n",
    "2. ETL robuste pour la collecte et le traitement des données\n",
    "3. Stockage efficace dans SQLite\n",
    "4. Visualisations interactives avec Plotly\n",
    "5. Interface utilisateur conviviale avec Streamlit\n",
    "\n",
    "Le projet respecte les bonnes pratiques de programmation Python et utilise les outils modernes de data science."
   ]
  }
 ],
 "metadata": {
  "language_info": {
   "name": "python"
  }
 },
 "nbformat": 4,
 "nbformat_minor": 5
}
